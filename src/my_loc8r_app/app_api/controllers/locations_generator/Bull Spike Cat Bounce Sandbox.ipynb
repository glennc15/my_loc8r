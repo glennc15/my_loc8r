{
 "cells": [
  {
   "cell_type": "code",
   "execution_count": 1,
   "id": "cf4dd240",
   "metadata": {},
   "outputs": [],
   "source": [
    "import datetime\n",
    "import pytz \n",
    "import tzlocal\n",
    "import pymongo \n",
    "import numpy as np\n",
    "import pandas as pd\n",
    "import os\n",
    "import re \n",
    "\n",
    "from collections import namedtuple\n",
    "import math\n",
    "''\n",
    "import json\n",
    "\n",
    "from bson import ObjectId\n",
    "\n",
    "import matplotlib as mpl\n",
    "import matplotlib.pyplot as plt\n",
    "# import mplfinance as mpf\n",
    "%matplotlib inline\n",
    "\n",
    "\n",
    "from IPython.display import clear_output\n",
    "\n",
    "# from pulp import *\n",
    "from pymongo import MongoClient\n",
    "\n",
    "import rlcompleter\n",
    "import pdb \n",
    "pdb.Pdb.complete = rlcompleter.Completer(locals()).complete\n",
    "\n",
    "from scipy.optimize import newton\n",
    "import scipy.optimize as opt\n",
    "\n",
    "# from scipy.stats import norm\n",
    "from scipy.stats import pearsonr\n",
    "\n",
    "from sklearn.linear_model import LogisticRegression\n",
    "\n",
    "%load_ext autoreload\n",
    "%autoreload 2\n",
    "\n",
    "# from trading_lib.mongo_records_reader import MongoRecordsReader\n",
    "# from trading_lib.mongo_repository import MongoRepository\n",
    "\n",
    "# from trading_lib.option import Option\n",
    "# from trading_lib.dynamic_option import DynamicOption\n",
    "# from trading_lib.diagonal_return_calculator import DiagonalReturnCalculator \n",
    "# from trading_lib.dynamic_diagonal import DynamicDiagonal\n",
    "\n",
    "# from notebook_helpers.mean_long_performance import MeanLongPerformance\n",
    "# from notebook_helpers.mean_credit_spread_performance import MeanCreditSpreadPerformance\n",
    "# from notebook_helpers.mean_debit_spread_performance import MeanDebitSpreadPerformance\n",
    "# from notebook_helpers.mean_calendar_spread_performance import MeanCalendarSpreadPerformance\n",
    "\n",
    "# from notebook_helpers.credit_spread_tools import CreditSpreadTools\n",
    "# from notebook_helpers.spread_simulator import SpreadSimulator\n",
    "# from notebook_helpers.ohlc_std_change import OhlcStdChange\n",
    "\n",
    "# from notebook_helpers.trend_tools_spot_projections import SpotProjections\n",
    "\n",
    "from load_data import LoadData\n",
    "from url_builder import UrlBuilder\n",
    "\n",
    "\n",
    "mongo_address = \"mongodb://192.168.1.2:27017\"\n",
    "mongo_client = MongoClient(mongo_address)\n",
    "\n",
    "# mongo_records_reader = MongoRecordsReader(mongo_client=mongo_client)\n"
   ]
  },
  {
   "cell_type": "code",
   "execution_count": 4,
   "id": "3fc529ab",
   "metadata": {},
   "outputs": [],
   "source": [
    "data = LoadData()"
   ]
  },
  {
   "cell_type": "code",
   "execution_count": 8,
   "id": "69dc3337",
   "metadata": {},
   "outputs": [],
   "source": [
    "# data.authors\n",
    "# data.positive_reviews\n",
    "# data.moderate_reviews"
   ]
  },
  {
   "cell_type": "code",
   "execution_count": 11,
   "id": "8072f28b",
   "metadata": {},
   "outputs": [
    {
     "data": {
      "text/plain": [
       "'http://127.0.0.1:5000/api/locations'"
      ]
     },
     "execution_count": 11,
     "metadata": {},
     "output_type": "execute_result"
    }
   ],
   "source": [
    "url_builder = UrlBuilder(\"http://127.0.0.1:5000/location\")\n",
    "url_builder.url(['api', 'locations'])"
   ]
  },
  {
   "cell_type": "code",
   "execution_count": null,
   "id": "01db845e",
   "metadata": {},
   "outputs": [],
   "source": []
  }
 ],
 "metadata": {
  "kernelspec": {
   "display_name": "Python 3 (ipykernel)",
   "language": "python",
   "name": "python3"
  },
  "language_info": {
   "codemirror_mode": {
    "name": "ipython",
    "version": 3
   },
   "file_extension": ".py",
   "mimetype": "text/x-python",
   "name": "python",
   "nbconvert_exporter": "python",
   "pygments_lexer": "ipython3",
   "version": "3.9.13"
  }
 },
 "nbformat": 4,
 "nbformat_minor": 5
}
